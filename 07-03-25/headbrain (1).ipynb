{
 "cells": [
  {
   "cell_type": "code",
   "execution_count": 8,
   "id": "7cc8ef27-9635-4fd0-9d69-b0d079a887fc",
   "metadata": {},
   "outputs": [],
   "source": [
    "import numpy as np \n",
    "import pandas as pd \n",
    "import seaborn as sns\n",
    "import matplotlib.pyplot as plt\n",
    "\n",
    "from sklearn.metrics import classification_report\n",
    "from sklearn.model_selection import train_test_split\n",
    "from sklearn.linear_model import LinearRegression\n",
    "from sklearn.metrics import r2_score"
   ]
  },
  {
   "cell_type": "code",
   "execution_count": 10,
   "id": "f6a85ff3-b1d4-4d71-a4a6-5dcc694a26b6",
   "metadata": {},
   "outputs": [
    {
     "data": {
      "text/html": [
       "<div>\n",
       "<style scoped>\n",
       "    .dataframe tbody tr th:only-of-type {\n",
       "        vertical-align: middle;\n",
       "    }\n",
       "\n",
       "    .dataframe tbody tr th {\n",
       "        vertical-align: top;\n",
       "    }\n",
       "\n",
       "    .dataframe thead th {\n",
       "        text-align: right;\n",
       "    }\n",
       "</style>\n",
       "<table border=\"1\" class=\"dataframe\">\n",
       "  <thead>\n",
       "    <tr style=\"text-align: right;\">\n",
       "      <th></th>\n",
       "      <th>Gender</th>\n",
       "      <th>Age Range</th>\n",
       "      <th>Head Size(cm^3)</th>\n",
       "      <th>Brain Weight(grams)</th>\n",
       "    </tr>\n",
       "  </thead>\n",
       "  <tbody>\n",
       "    <tr>\n",
       "      <th>0</th>\n",
       "      <td>1</td>\n",
       "      <td>1</td>\n",
       "      <td>4512</td>\n",
       "      <td>1530</td>\n",
       "    </tr>\n",
       "    <tr>\n",
       "      <th>1</th>\n",
       "      <td>1</td>\n",
       "      <td>1</td>\n",
       "      <td>3738</td>\n",
       "      <td>1297</td>\n",
       "    </tr>\n",
       "    <tr>\n",
       "      <th>2</th>\n",
       "      <td>1</td>\n",
       "      <td>1</td>\n",
       "      <td>4261</td>\n",
       "      <td>1335</td>\n",
       "    </tr>\n",
       "    <tr>\n",
       "      <th>3</th>\n",
       "      <td>1</td>\n",
       "      <td>1</td>\n",
       "      <td>3777</td>\n",
       "      <td>1282</td>\n",
       "    </tr>\n",
       "    <tr>\n",
       "      <th>4</th>\n",
       "      <td>1</td>\n",
       "      <td>1</td>\n",
       "      <td>4177</td>\n",
       "      <td>1590</td>\n",
       "    </tr>\n",
       "    <tr>\n",
       "      <th>...</th>\n",
       "      <td>...</td>\n",
       "      <td>...</td>\n",
       "      <td>...</td>\n",
       "      <td>...</td>\n",
       "    </tr>\n",
       "    <tr>\n",
       "      <th>232</th>\n",
       "      <td>2</td>\n",
       "      <td>2</td>\n",
       "      <td>3214</td>\n",
       "      <td>1110</td>\n",
       "    </tr>\n",
       "    <tr>\n",
       "      <th>233</th>\n",
       "      <td>2</td>\n",
       "      <td>2</td>\n",
       "      <td>3394</td>\n",
       "      <td>1215</td>\n",
       "    </tr>\n",
       "    <tr>\n",
       "      <th>234</th>\n",
       "      <td>2</td>\n",
       "      <td>2</td>\n",
       "      <td>3233</td>\n",
       "      <td>1104</td>\n",
       "    </tr>\n",
       "    <tr>\n",
       "      <th>235</th>\n",
       "      <td>2</td>\n",
       "      <td>2</td>\n",
       "      <td>3352</td>\n",
       "      <td>1170</td>\n",
       "    </tr>\n",
       "    <tr>\n",
       "      <th>236</th>\n",
       "      <td>2</td>\n",
       "      <td>2</td>\n",
       "      <td>3391</td>\n",
       "      <td>1120</td>\n",
       "    </tr>\n",
       "  </tbody>\n",
       "</table>\n",
       "<p>237 rows × 4 columns</p>\n",
       "</div>"
      ],
      "text/plain": [
       "     Gender  Age Range  Head Size(cm^3)  Brain Weight(grams)\n",
       "0         1          1             4512                 1530\n",
       "1         1          1             3738                 1297\n",
       "2         1          1             4261                 1335\n",
       "3         1          1             3777                 1282\n",
       "4         1          1             4177                 1590\n",
       "..      ...        ...              ...                  ...\n",
       "232       2          2             3214                 1110\n",
       "233       2          2             3394                 1215\n",
       "234       2          2             3233                 1104\n",
       "235       2          2             3352                 1170\n",
       "236       2          2             3391                 1120\n",
       "\n",
       "[237 rows x 4 columns]"
      ]
     },
     "execution_count": 10,
     "metadata": {},
     "output_type": "execute_result"
    }
   ],
   "source": [
    "df=pd.read_csv('headbrain.csv')\n",
    "df\n"
   ]
  },
  {
   "cell_type": "code",
   "execution_count": 11,
   "id": "5c03c230-3cd8-49de-8d5d-e3c16b81a83b",
   "metadata": {},
   "outputs": [
    {
     "data": {
      "text/plain": [
       "(237, 4)"
      ]
     },
     "execution_count": 11,
     "metadata": {},
     "output_type": "execute_result"
    }
   ],
   "source": [
    "df.shape"
   ]
  },
  {
   "cell_type": "code",
   "execution_count": 12,
   "id": "b4ee214d-53aa-4ffc-a27f-eede29a8322c",
   "metadata": {},
   "outputs": [
    {
     "name": "stdout",
     "output_type": "stream",
     "text": [
      "<class 'pandas.core.frame.DataFrame'>\n",
      "RangeIndex: 237 entries, 0 to 236\n",
      "Data columns (total 4 columns):\n",
      " #   Column               Non-Null Count  Dtype\n",
      "---  ------               --------------  -----\n",
      " 0   Gender               237 non-null    int64\n",
      " 1   Age Range            237 non-null    int64\n",
      " 2   Head Size(cm^3)      237 non-null    int64\n",
      " 3   Brain Weight(grams)  237 non-null    int64\n",
      "dtypes: int64(4)\n",
      "memory usage: 7.5 KB\n"
     ]
    }
   ],
   "source": [
    "df.info()"
   ]
  },
  {
   "cell_type": "code",
   "execution_count": 13,
   "id": "330a0984-1016-4ec7-b6a8-e985f23335da",
   "metadata": {},
   "outputs": [
    {
     "data": {
      "text/plain": [
       "Gender                 False\n",
       "Age Range              False\n",
       "Head Size(cm^3)        False\n",
       "Brain Weight(grams)    False\n",
       "dtype: bool"
      ]
     },
     "execution_count": 13,
     "metadata": {},
     "output_type": "execute_result"
    }
   ],
   "source": [
    "df.isnull().any()"
   ]
  },
  {
   "cell_type": "code",
   "execution_count": 14,
   "id": "13875728-01b6-42fb-85cd-d88e9aecc68c",
   "metadata": {},
   "outputs": [
    {
     "data": {
      "text/plain": [
       "Gender                   2\n",
       "Age Range                2\n",
       "Head Size(cm^3)        221\n",
       "Brain Weight(grams)    146\n",
       "dtype: int64"
      ]
     },
     "execution_count": 14,
     "metadata": {},
     "output_type": "execute_result"
    }
   ],
   "source": [
    "df.nunique()"
   ]
  },
  {
   "cell_type": "code",
   "execution_count": 15,
   "id": "af6a6f2f-ac62-450a-9606-72d0c29cbd1d",
   "metadata": {},
   "outputs": [
    {
     "data": {
      "image/png": "[encoded data removed]",
      "text/plain": [
       "<Figure size 1000x1000 with 1 Axes>"
      ]
     },
     "metadata": {},
     "output_type": "display_data"
    }
   ],
   "source": [
    "plt.figure(figsize=(10,10))\n",
    "sns.scatterplot(y='Brain Weight(grams)',x='Head Size(cm^3)',data=df)\n",
    "plt.show()"
   ]
  },
  {
   "cell_type": "code",
   "execution_count": 16,
   "id": "32e2531b-b808-452e-9c58-f1bb2902bf4d",
   "metadata": {},
   "outputs": [
    {
     "data": {
      "text/plain": [
       "((237,), (237,))"
      ]
     },
     "execution_count": 16,
     "metadata": {},
     "output_type": "execute_result"
    }
   ],
   "source": [
    "df=df.values\n",
    "X = df[:,2]\n",
    "Y = df[:,3]\n",
    "X.shape,Y.shape #When working with large datasets, you need to confirm that your features (independent variable X) and target (dependent variable Y) have the correct shape before applying machine learning models."
   ]
  },
  {
   "cell_type": "code",
   "execution_count": 18,
   "id": "af3ec0a5-2e2e-4fa6-b56a-53267755c6e2",
   "metadata": {},
   "outputs": [
    {
     "name": "stdout",
     "output_type": "stream",
     "text": [
      "Slope (m): 0.26342933948939945\n",
      "Intercept (c): 325.57342104944223\n",
      "Equation of line: y = 0.26x + 325.57\n"
     ]
    }
   ],
   "source": [
    "def LinearRegression(X,Y):\n",
    "    mean_x=np.mean(X)\n",
    "    mean_y=np.mean(Y)\n",
    "    num=0\n",
    "    den=0\n",
    "    n = len(X)\n",
    "    for i in range(n):\n",
    "        num = num + (X[i] - mean_x)*(Y[i] - mean_y)\n",
    "        den = den + (X[i] - mean_x)**2\n",
    "    m = num/den\n",
    "    c = mean_y - m* mean_x\n",
    "    return m,c\n",
    "m,c=LinearRegression(X,Y)\n",
    "print(\"Slope (m):\", m)\n",
    "print(\"Intercept (c):\", c)\n",
    "print(f\"Equation of line: y = {m:.2f}x + {c:.2f}\")"
   ]
  },
  {
   "cell_type": "code",
   "execution_count": 19,
   "id": "0628ccb7-44fe-4201-a37f-dc2008077c22",
   "metadata": {},
   "outputs": [
    {
     "name": "stdout",
     "output_type": "stream",
     "text": [
      "[1514.1666008256125, 1310.2722920608173, 1448.0458366137732, 1320.546036300904, 1425.9177720966638, 1269.9676031189392, 1322.6534710168191, 1263.118440292215, 1277.3436246246424, 1374.549050896231, 1232.5606369114446, 1377.4467736306142, 1284.4562167908562, 1434.0840816208351, 1335.034649972821, 1346.6255409103546, 1246.785821243872, 1238.6195117197008, 1140.8872267691336, 1490.9848189505453, 1347.1523995893333, 1391.4085286235525, 1327.6586284671178, 1302.8962705551141, 1576.0724956056215, 1490.721389611056, 1388.7742352286584, 1385.0862244758068, 1235.4583596458278, 1425.390913417685, 1323.1803296957978, 1325.5511937512024, 1406.424000974448, 1421.7029026648333, 1420.9126146463652, 1330.2929218620118, 1254.688701428554, 1312.9065854557114, 1203.8468389071, 1245.468674546425, 1369.2804641064429, 1248.8932559597874, 1462.271020946201, 1327.6586284671178, 1343.2009594969923, 1388.2473765496795, 1460.427015569775, 1159.3272805333913, 1284.7196461303456, 1285.509934148814, 1350.5769810026954, 1324.7609057327345, 1450.4167006691778, 1395.8868273948722, 1382.4519310809128, 1236.5120770037856, 1350.313551663206, 1423.0200493622804, 1362.1678719402291, 1292.0956676360488, 1343.9912475154606, 1219.3891699369747, 1495.7265470613545, 1445.938401897858, 1307.374569326434, 1202.5296922096531, 1225.1846154057414, 1213.8571538076972, 1492.5653949874818, 1479.6573573525013, 1381.3982137229552, 1341.8838127995455, 1411.1657290852575, 1394.3062513579357, 1332.9272152569056, 1219.6525992764641, 1262.8550109527255, 1211.2228604128031, 1360.8507252427821, 1335.824937991289, 1334.5077912938423, 1341.3569541205666, 1181.455345050501, 1267.860168403024, 1361.6410132612502, 1339.77637808363, 1197.261105419865, 1222.8137513503366, 1249.1566852992767, 1354.791850434526, 1421.439473325344, 1199.6319694752697, 1290.2516622596231, 1352.6844157186106, 1300.2619771602203, 1321.0728949798827, 1240.4635170961265, 1244.9418158674462, 1288.144227543708, 1241.7806637935735, 1246.2589625648934, 1335.5615086517996, 1346.6255409103546, 1289.9882329201337, 1278.6607713220894, 1286.5636515067713, 1387.7205178707009, 1220.969745973911, 1357.1627144899305, 1492.5653949874818, 1298.944830462773, 1253.898413410086, 1266.2795923660876, 1272.3384671743438, 1216.7548765420806, 1247.3126799228507, 1271.021320476897, 1352.9478450581, 1409.3217237088315, 1362.6947306192078, 1220.969745973911, 1431.97664690492, 1507.8442966778669, 1277.6070539641319, 1392.7256753209995, 1321.863182998351, 1218.8623112579958, 1148.5266776143262, 1393.2525339999781, 1269.177315100471, 1291.3053796175805, 1256.0058481260012, 1391.4085286235525, 1291.56880895707, 1078.1910439706564, 1230.7166315350187, 1324.2340470537556, 1195.4171000434392, 1143.2580908245382, 1160.907856570328, 1266.543021705577, 1255.4789894470223, 1161.9615739282854, 1231.2434902139976, 1353.7381330765684, 1352.6844157186106, 1221.4966046528898, 1186.19707316131, 1234.6680716273597, 1139.5700800716866, 1224.6577567267625, 1200.9491161727165, 1294.9933903704323, 1231.506919553487, 1340.5666661020982, 1156.9564164779867, 1189.358225235183, 1302.105982536646, 1380.8713550439763, 1186.723931840289, 1134.564922621388, 1321.0728949798827, 1260.2207175578314, 1192.7828066485454, 1246.785821243872, 1137.4626453557712, 1181.1919157110117, 1210.1691430548456, 1327.3951991276283, 1264.9624456686406, 1154.0586937436035, 1248.3663972808085, 1266.2795923660876, 1306.5842813079657, 1277.8704833036213, 1169.3375954339886, 1276.2899072666848, 1263.6452989711938, 1373.7587628777626, 1256.2692774654906, 1297.3642544258369, 1157.4832751569656, 1380.6079257044871, 1163.542149965222, 1242.044093133063, 1284.983075469835, 1282.348782074941, 1134.0380639424093, 1219.6525992764641, 1301.0522651786882, 1159.3272805333913, 1209.115425696888, 1115.8614395176405, 1296.837395746858, 1262.3281522737466, 1056.0629794535469, 1131.1403412080258, 1206.481132301994, 1245.7321038859145, 1194.0999533459922, 1210.6960017338242, 1175.9233289212236, 1188.831366556204, 1340.0398074231196, 1133.5112052634304, 1298.154542444305, 1221.7600339923792, 1377.973632309593, 1199.6319694752697, 1042.1012244606086, 1099.2653911298084, 1268.6504564214922, 1099.7922498087873, 1112.963716783257, 1270.2310324584287, 1156.9564164779867, 1180.6650570320328, 1160.6444272308386, 1186.4605025007995, 1218.3354525790169, 1216.2280178631017, 1080.0350493470823, 1310.799150739796, 1242.044093133063, 1286.300222167282, 1304.4768465920506, 1190.67537193263, 1433.0303642628776, 1309.4820040423492, 1173.2890355263298, 1296.310537067879, 1301.3156945181777, 1172.235318168372, 1219.6525992764641, 1177.2404756186706, 1208.588567017909, 1218.8623112579958]\n"
     ]
    }
   ],
   "source": [
    "def Predict(X):\n",
    "    Y_p = []\n",
    "    for i in range(len(X)):\n",
    "        Y_p.append(m*X[i]+c)\n",
    "    return Y_p\n",
    "Y_p = Predict(X)\n",
    "print(Y_p)"
   ]
  },
  {
   "cell_type": "code",
   "execution_count": null,
   "id": "07ff8932-f35b-4d03-93d9-638b38f8a8fc",
   "metadata": {},
   "outputs": [],
   "source": []
  }
 ],
 "metadata": {
  "kernelspec": {
   "display_name": "Python 3 (ipykernel)",
   "language": "python",
   "name": "python3"
  },
  "language_info": {
   "codemirror_mode": {
    "name": "ipython",
    "version": 3
   },
   "file_extension": ".py",
   "mimetype": "text/x-python",
   "name": "python",
   "nbconvert_exporter": "python",
   "pygments_lexer": "ipython3",
   "version": "3.12.7"
  }
 },
 "nbformat": 4,
 "nbformat_minor": 5
}
