{
 "cells": [
  {
   "cell_type": "code",
   "execution_count": null,
   "metadata": {},
   "outputs": [
    {
     "name": "stdout",
     "output_type": "stream",
     "text": [
      "Slope (m): 0.4\n",
      "Intercept (c): 2.4\n",
      "Equation of line: y = 0.40x + 2.40\n"
     ]
    }
   ],
   "source": [
    "import numpy as np\n",
    "def LinearRegression(X,Y):\n",
    "    \n",
    "    mean_x = np.mean(X)\n",
    "    mean_y = np.mean(Y)\n",
    "    num = 0\n",
    "    den = 0\n",
    "    n = len(X)\n",
    "    for i in range(n):\n",
    "        num = num + (X[i] - mean_x) * (Y[i] - mean_y)\n",
    "        den = den + (X[i] - mean_x) ** 2\n",
    "    m = num/den\n",
    "    c = mean_y - m*mean_x\n",
    "    return m,c\n",
    "X = np.array([1, 2, 3, 4, 5]) # Independent variable (X)\n",
    "Y = np.array([3,4,2,4,5])  # Y Dependent variable\n",
    "m, c = LinearRegression(X, Y)\n",
    "\n",
    "print(\"Slope (m):\", m)\n",
    "print(\"Intercept (c):\", c)\n",
    "print(f\"Equation of line: y = {m:.2f}x + {c:.2f}\")"
   ]
  },
  {
   "cell_type": "code",
   "execution_count": 13,
   "metadata": {},
   "outputs": [
    {
     "name": "stdout",
     "output_type": "stream",
     "text": [
      "[2.8, 3.2, 3.6, 4.0, 4.4]\n"
     ]
    }
   ],
   "source": [
    "def Predict(X):\n",
    "    Y_p = []\n",
    "    for i in range(len(X)):\n",
    "        Y_p.append(m*X[i]+c)\n",
    "    return Y_p\n",
    "Y_p = Predict(X)\n",
    "print(Y_p)"
   ]
  },
  {
   "cell_type": "code",
   "execution_count": null,
   "metadata": {},
   "outputs": [
    {
     "name": "stdout",
     "output_type": "stream",
     "text": [
      "0.6923076923076922\n"
     ]
    }
   ],
   "source": [
    "def R_squared(X, Y, m, c):\n",
    "    mean_y = np.mean(Y)#again you should calculate because it is used within the function up so you can't access\n",
    "    \n",
    "    num_total = sum((Y - mean_y) ** 2)\n",
    "    \n",
    "    den_total = sum((Y_p - mean_y) ** 2)\n",
    "    \n",
    "    R2 = 1 - (den_total/ num_total)#if you want the accuracy you should sub from one minus\n",
    "    return R2\n",
    "R2=R_squared(X,Y,m,c)\n",
    "print(R2)\n"
   ]
  },
  {
   "cell_type": "code",
   "execution_count": null,
   "metadata": {},
   "outputs": [],
   "source": [
    "    "
   ]
  }
 ],
 "metadata": {
  "kernelspec": {
   "display_name": "base",
   "language": "python",
   "name": "python3"
  },
  "language_info": {
   "codemirror_mode": {
    "name": "ipython",
    "version": 3
   },
   "file_extension": ".py",
   "mimetype": "text/x-python",
   "name": "python",
   "nbconvert_exporter": "python",
   "pygments_lexer": "ipython3",
   "version": "3.12.7"
  }
 },
 "nbformat": 4,
 "nbformat_minor": 2
}
